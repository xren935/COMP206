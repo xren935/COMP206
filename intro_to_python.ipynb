{
  "nbformat": 4,
  "nbformat_minor": 0,
  "metadata": {
    "colab": {
      "name": "intro_to_python.ipynb",
      "provenance": [],
      "collapsed_sections": [
        "23Wfgpf4pVqy",
        "xQ1vqdLQvl5P",
        "e8J_3xS0hC6g",
        "Wtp_h-wPMSwR",
        "EEbQhRMKMSwW",
        "mTdQRSzUMSwT",
        "LuQlbk5nMSwY"
      ],
      "toc_visible": true,
      "include_colab_link": true
    },
    "kernelspec": {
      "name": "python3",
      "display_name": "Python 3"
    }
  },
  "cells": [
    {
      "cell_type": "markdown",
      "metadata": {
        "id": "view-in-github",
        "colab_type": "text"
      },
      "source": [
        "<a href=\"https://colab.research.google.com/github/xren935/COMP206/blob/master/intro_to_python.ipynb\" target=\"_parent\"><img src=\"https://colab.research.google.com/assets/colab-badge.svg\" alt=\"Open In Colab\"/></a>"
      ]
    },
    {
      "cell_type": "markdown",
      "metadata": {
        "id": "NIRhdpsXXY9J",
        "colab_type": "text"
      },
      "source": [
        "# Workshop 1 ― Python for Data Science"
      ]
    },
    {
      "cell_type": "markdown",
      "metadata": {
        "id": "JGBYeWIflVL2",
        "colab_type": "text"
      },
      "source": [
        "The following notebook was prepared for the [Python for Data Science](https://www.facebook.com/events/699389510612077) workshop, held by the [McGill AI Society](https://www.mcgillai.com/) on August 19, 2020. \n",
        "\n",
        "During the first half of this workshop, we will introduce you to the Python programming language before moving on to interesting data handling and visualization libraries often used in machine learning and data science.\n",
        "\n",
        "*Built on material by Yutong Yan and excerpts from the [Python Data Science Handbook](http://shop.oreilly.com/product/0636920034919.do) by Jake VanderPlas*\n",
        "\n",
        "---\n",
        "\n"
      ]
    },
    {
      "cell_type": "markdown",
      "metadata": {
        "id": "LaE2WVXIm8aH",
        "colab_type": "text"
      },
      "source": [
        "## What is Google Colab and why do we use it?"
      ]
    },
    {
      "cell_type": "markdown",
      "metadata": {
        "id": "ztkpWIJ2nOd_",
        "colab_type": "text"
      },
      "source": [
        "When writing code, one needs a development environment to be able to write and execute code. Google Colaboratory is an interactive development environment which has the following perks:\n",
        "- ability to share code easily\n",
        "- access to GPUs\n",
        "- zero need for default configuration\n",
        "\n",
        "Furthermore it supports the combination of live code and rich text in a notebook format. "
      ]
    },
    {
      "cell_type": "markdown",
      "metadata": {
        "id": "p-DWls46m1FH",
        "colab_type": "text"
      },
      "source": [
        "## Part 1: Python basics\n",
        "\n",
        "In this section, we will cover Python syntax, control flow, and native data structures. "
      ]
    },
    {
      "cell_type": "code",
      "metadata": {
        "id": "3k6lxHfSl0Qw",
        "colab_type": "code",
        "colab": {}
      },
      "source": [
        "# This is a comment\n",
        "1 + 1"
      ],
      "execution_count": null,
      "outputs": []
    },
    {
      "cell_type": "markdown",
      "metadata": {
        "id": "2teocQhmpgcE",
        "colab_type": "text"
      },
      "source": [
        "#### Variable assignment and types"
      ]
    },
    {
      "cell_type": "code",
      "metadata": {
        "id": "WkSkX8Z-WLlK",
        "colab_type": "code",
        "colab": {}
      },
      "source": [
        "x = 2\n",
        "print(\"x: \", x, \", type(x): \", type(x))\n",
        "\n",
        "x = 2.\n",
        "print(\"x: \", x, \", type(x): \", type(x))\n",
        "\n",
        "x = \"a\"\n",
        "print(\"x: \", x, \", type(x): \", type(x))\n",
        "\n",
        "x = 'a'\n",
        "print(\"x: \", x, \", type(x): \", type(x))\n",
        "\n",
        "x = [2]\n",
        "print(\"x: \", x, \", type(x): \", type(x))\n",
        "\n",
        "x = {\"a\": 2}\n",
        "print(\"x: \", x, \", type(x): \", type(x))"
      ],
      "execution_count": null,
      "outputs": []
    },
    {
      "cell_type": "markdown",
      "metadata": {
        "id": "w7oZJa5SqMDG",
        "colab_type": "text"
      },
      "source": [
        "#### String formatting"
      ]
    },
    {
      "cell_type": "code",
      "metadata": {
        "id": "NgpGKlKGqOAk",
        "colab_type": "code",
        "colab": {}
      },
      "source": [
        "\"\"\"\n",
        "Here we will look at the ages \n",
        "of our friends\n",
        "Alice, \n",
        "John \n",
        "and Meg\n",
        "\"\"\"\n",
        "alice = 20\n",
        "john = 18\n",
        "meg = 18\n",
        "\n",
        "print(\"Alice is {} years old\".format(alice))\n",
        "print(f\"John is {john} years old\")\n",
        "print(\"Meg is %d years old\"%meg)"
      ],
      "execution_count": null,
      "outputs": []
    },
    {
      "cell_type": "markdown",
      "metadata": {
        "id": "MSc-DjPwrKa2",
        "colab_type": "text"
      },
      "source": [
        "#### Booleans and Logic operators"
      ]
    },
    {
      "cell_type": "markdown",
      "metadata": {
        "id": "G9gNLEL9ro9x",
        "colab_type": "text"
      },
      "source": [
        "We will look at the following operators:\n",
        "\n",
        "$$\n",
        "\\begin{equation}\n",
        "X \\land Y \\\\\n",
        "X \\lor Y \\\\\n",
        "\\neg Y \\\\\n",
        "X \\oplus Y \\\\\n",
        "X = Y\n",
        "\\end{equation}\n",
        "$$"
      ]
    },
    {
      "cell_type": "code",
      "metadata": {
        "id": "l9Vg4-TjqmaI",
        "colab_type": "code",
        "colab": {}
      },
      "source": [
        "x = True\n",
        "y = False\n",
        "\n",
        "print(f\"X and Y: {x and y}\")\n",
        "print(f\"X or Y: {x or y}\")\n",
        "print(f\"not y: {not y}\")\n",
        "print(f\"x != y: {x != y}\")\n",
        "print(f\"x == y: {x == y}\")"
      ],
      "execution_count": null,
      "outputs": []
    },
    {
      "cell_type": "markdown",
      "metadata": {
        "id": "aISCuhEwty_4",
        "colab_type": "text"
      },
      "source": [
        "#### Lists"
      ]
    },
    {
      "cell_type": "code",
      "metadata": {
        "id": "x7nBPVqSrIrK",
        "colab_type": "code",
        "colab": {}
      },
      "source": [
        "arr1 = [\"alice\", True, 42]\n",
        "print(arr1)\n",
        "\n",
        "arr2 = [0]*10\n",
        "print(arr2)\n",
        "\n",
        "arr3 = [[1], [1,1], [1,1,1], [1,1,1,1]]\n",
        "print(arr3)\n",
        "\n",
        "# Note that range returns an iteratble\n",
        "arr4 = list(range(10))\n",
        "print(arr4)"
      ],
      "execution_count": null,
      "outputs": []
    },
    {
      "cell_type": "code",
      "metadata": {
        "id": "Jp1ZRwL3uDY6",
        "colab_type": "code",
        "colab": {}
      },
      "source": [
        "print(arr1[0])\n",
        "print(arr3[-1])\n",
        "\n",
        "print(arr4[5:])\n",
        "print(arr4[:5])"
      ],
      "execution_count": null,
      "outputs": []
    },
    {
      "cell_type": "code",
      "metadata": {
        "id": "rskoJHouuo-H",
        "colab_type": "code",
        "colab": {}
      },
      "source": [
        "arr = \"Bob is sleeping\".split()\n",
        "print(arr)\n",
        "\n",
        "arr[0] = \"Alice\"\n",
        "print(arr)\n",
        "\n",
        "print(' '.join(arr))"
      ],
      "execution_count": null,
      "outputs": []
    },
    {
      "cell_type": "markdown",
      "metadata": {
        "id": "pJ8Bz-H2wQdb",
        "colab_type": "text"
      },
      "source": [
        "Map and Lambda"
      ]
    },
    {
      "cell_type": "code",
      "metadata": {
        "id": "8KO04I1Ku8Dq",
        "colab_type": "code",
        "colab": {}
      },
      "source": [
        "\"\"\"\n",
        "lambda allow us to mimick the behavior of functions\n",
        "map applies a function onto a list\n",
        "\"\"\"\n",
        "print(map(lambda x : type(x), arr))\n",
        "print(list(map(lambda x : type(x), arr)))\n",
        "\n",
        "print(list(map(lambda x : x**2, arr4)))"
      ],
      "execution_count": null,
      "outputs": []
    },
    {
      "cell_type": "markdown",
      "metadata": {
        "id": "RRa3572qw04m",
        "colab_type": "text"
      },
      "source": [
        "##### Iterating over *lists*"
      ]
    },
    {
      "cell_type": "code",
      "metadata": {
        "id": "G-SyNa2Bw1o8",
        "colab_type": "code",
        "colab": {}
      },
      "source": [
        "l = [chr(n) for n in range(97,107)] # [chr(97), ..., chr(106)]\n",
        "\n",
        "#For loop (Cannot easily get index of elements)\n",
        "print(\"Simple for loop:\")\n",
        "\n",
        "for num in l:\n",
        "    print(num)\n",
        "\n",
        "#Index loop\n",
        "print(\"\\nfor loop over indices:\")\n",
        "for i in range(len(l)):\n",
        "    print(i,l[i])\n",
        "    \n",
        "#Enumeration loop\n",
        "print(\"\\nEnumeration loop style for loop:\")\n",
        "for i, num in enumerate(l):\n",
        "    print(i, num)"
      ],
      "execution_count": null,
      "outputs": []
    },
    {
      "cell_type": "markdown",
      "metadata": {
        "id": "9dRPqpz8wNVU",
        "colab_type": "text"
      },
      "source": [
        "##### List comprehension"
      ]
    },
    {
      "cell_type": "code",
      "metadata": {
        "id": "mAQSRAAavZHP",
        "colab_type": "code",
        "colab": {}
      },
      "source": [
        "# Again a generator\n",
        "print(i**2 for i in range(10))\n",
        "\n",
        "a = [i**2 for i in range(10)]\n",
        "print(a)\n",
        "\n",
        "a = list(i**2 for i in range(10))\n",
        "print(a)\n",
        "\n",
        "a = [i for i in range(1,20) if i%3 == 0]\n",
        "print(a)\n",
        "\n",
        "#Also if-else\n",
        "a = [i if i%3 == 0 else 0 for i in range(1,20)]\n",
        "print(a)"
      ],
      "execution_count": null,
      "outputs": []
    },
    {
      "cell_type": "markdown",
      "metadata": {
        "id": "HXTuiHOMxPvY",
        "colab_type": "text"
      },
      "source": [
        "#### Strings"
      ]
    },
    {
      "cell_type": "code",
      "metadata": {
        "id": "v_HDArI_wkCb",
        "colab_type": "code",
        "colab": {}
      },
      "source": [
        "# Strings are similar to lists\n",
        "\n",
        "greet = 'Hello World'\n",
        "print(greet)\n",
        "print(greet[0])\n",
        "print(greet[0:3])\n",
        "print(greet[3:])"
      ],
      "execution_count": null,
      "outputs": []
    },
    {
      "cell_type": "code",
      "metadata": {
        "id": "CqYXgCGnxXGB",
        "colab_type": "code",
        "colab": {}
      },
      "source": [
        "print(greet.lower()) # Convert string to lowercase\n",
        "print(greet.upper() )# Convert string to uppercase\n",
        "print(greet)         # Note that this does not change the original string\n",
        "print(greet.split()) # split based on space\n",
        "print(greet.split('ll')) # split based on 'll'"
      ],
      "execution_count": null,
      "outputs": []
    },
    {
      "cell_type": "code",
      "metadata": {
        "id": "Ry4hipJ2xZth",
        "colab_type": "code",
        "colab": {}
      },
      "source": [
        "#Strings are immutable (unlike lists)\n",
        "greet[0] = 'a' # will generate a TypeError"
      ],
      "execution_count": null,
      "outputs": []
    },
    {
      "cell_type": "markdown",
      "metadata": {
        "id": "97c7WelpxlV-",
        "colab_type": "text"
      },
      "source": [
        "#### Dictionary"
      ]
    },
    {
      "cell_type": "code",
      "metadata": {
        "id": "HQBJ2hp4xfBB",
        "colab_type": "code",
        "colab": {}
      },
      "source": [
        "# Nice way to store information\n",
        "\n",
        "d = {\"Name\":\"Harry\", \"Age\":11, \"Address\":\"4 Privet Drive, Little Whinging, Surrey\"}\n",
        "print(d)\n",
        "\n",
        "# get value based on key\n",
        "print(d[\"Name\"])\n",
        "\n",
        "# change an existing value \n",
        "d[\"Address\"] = 'Hogwarts'\n",
        "print(d)\n",
        "\n",
        "# insert new element\n",
        "d[\"Godfather\"] = \"Sirius\"\n",
        "print(d)\n",
        "\n",
        "# delete a key-value pair\n",
        "del d[\"Godfather\"]\n",
        "print(d)"
      ],
      "execution_count": null,
      "outputs": []
    },
    {
      "cell_type": "code",
      "metadata": {
        "id": "RN4ki2cMxpG2",
        "colab_type": "code",
        "colab": {}
      },
      "source": [
        "# Iterating over dictionary keys\n",
        "for key in d:\n",
        "    print( key, \":\", d[key])\n",
        "    \n",
        "for key, value in d.items():\n",
        "    print(key, value)"
      ],
      "execution_count": null,
      "outputs": []
    },
    {
      "cell_type": "markdown",
      "metadata": {
        "id": "jEBjZ1JE1cxN",
        "colab_type": "text"
      },
      "source": [
        "#### If statements"
      ]
    },
    {
      "cell_type": "code",
      "metadata": {
        "id": "Brdj4VzRx93N",
        "colab_type": "code",
        "colab": {}
      },
      "source": [
        "#if statement, python is all about indentations!\n",
        "x=3\n",
        "if x>0:\n",
        "    print(\"I do not like green eggs and ham\")\n",
        "elif x == 0: \n",
        "    print(\"I do not like them\")\n",
        "else: #x<0\n",
        "    print(\"Sam-I-am\")"
      ],
      "execution_count": null,
      "outputs": []
    },
    {
      "cell_type": "markdown",
      "metadata": {
        "id": "pltpZ19U1mmC",
        "colab_type": "text"
      },
      "source": [
        "#### Functions"
      ]
    },
    {
      "cell_type": "code",
      "metadata": {
        "id": "ZnP0wcd01in7",
        "colab_type": "code",
        "colab": {}
      },
      "source": [
        "#You can define your own functions:\n",
        "def func1(x):\n",
        "    return [x*2, x*3]\n",
        "\n",
        "# You can set default parametrizations\n",
        "def func2(x=5):\n",
        "    return [x*2, x*3]\n",
        "\n",
        "print(f\"func1(5) = {func1(5)}\")\n",
        "print(f\"func2() = {func2()}\")\n",
        "\n",
        "# You can also define your functions using lambdas\n",
        "func = lambda x: [x*2, x*3]\n",
        "print(f\"func(5) = {func(5)}\")\n",
        "\n",
        "#The type is inferred by Python\n",
        "print(f\"func1(5) = {func1(5)}\")\n",
        "\n",
        "#Python also makes your functions polymorphic whenever it can\n",
        "print(f\"func('string') = {func('string')}\")"
      ],
      "execution_count": null,
      "outputs": []
    },
    {
      "cell_type": "markdown",
      "metadata": {
        "id": "7Vqgv6j52Mfz",
        "colab_type": "text"
      },
      "source": [
        "#### Variable scope"
      ]
    },
    {
      "cell_type": "code",
      "metadata": {
        "id": "Lty5XEjZ2UJN",
        "colab_type": "code",
        "colab": {}
      },
      "source": [
        "a = 1 # Global variable\n",
        "\n",
        "def foo(): \n",
        "    print(f'Inside foo() : {a}')\n",
        "  \n",
        "def boo():     \n",
        "    a = 2\n",
        "    print(f'Inside boo() : {a}')\n",
        "  \n",
        "def goo():     \n",
        "    global a \n",
        "    a = 3\n",
        "    print(f'Inside goo() : {a}')\n",
        "  \n",
        "# Global scope \n",
        "print(f'global : {a}')\n",
        "foo() \n",
        "print(f'global : {a}')\n",
        "boo() \n",
        "print(f'global : {a}')\n",
        "goo() \n",
        "print(f'global : {a}')"
      ],
      "execution_count": null,
      "outputs": []
    },
    {
      "cell_type": "markdown",
      "metadata": {
        "id": "i1sequoZ2Ovn",
        "colab_type": "text"
      },
      "source": [
        "#### Exceptions and Try catch"
      ]
    },
    {
      "cell_type": "code",
      "metadata": {
        "id": "M-NjDe-_1p5O",
        "colab_type": "code",
        "colab": {}
      },
      "source": [
        "def add_two_int(x, y):\n",
        "  assert isinstance(x, int), f\"Argument {x} should be of type int\"\n",
        "  if not isinstance(y, int):\n",
        "    raise TypeError(f\"Argument {y} should be of type int\")\n",
        "  return x + y"
      ],
      "execution_count": null,
      "outputs": []
    },
    {
      "cell_type": "code",
      "metadata": {
        "id": "OIygM4w33Bdw",
        "colab_type": "code",
        "colab": {}
      },
      "source": [
        "add_two_int(1,2)"
      ],
      "execution_count": null,
      "outputs": []
    },
    {
      "cell_type": "code",
      "metadata": {
        "id": "q0Zntlsy3DSa",
        "colab_type": "code",
        "colab": {}
      },
      "source": [
        "add_two_int('1', 2)"
      ],
      "execution_count": null,
      "outputs": []
    },
    {
      "cell_type": "code",
      "metadata": {
        "id": "9ZnYotml3RSl",
        "colab_type": "code",
        "colab": {}
      },
      "source": [
        "add_two_int(1, \"2\")"
      ],
      "execution_count": null,
      "outputs": []
    },
    {
      "cell_type": "code",
      "metadata": {
        "id": "L1vo6oAD3E-J",
        "colab_type": "code",
        "colab": {}
      },
      "source": [
        "add_two_int(1, True) # Be careful, these things may happen :P"
      ],
      "execution_count": null,
      "outputs": []
    },
    {
      "cell_type": "code",
      "metadata": {
        "id": "bznSX9Ky3HLV",
        "colab_type": "code",
        "colab": {}
      },
      "source": [
        "try:\n",
        "  print(add_two_int(1, \"2\"))\n",
        "except TypeError as e:\n",
        "  print(e)"
      ],
      "execution_count": null,
      "outputs": []
    },
    {
      "cell_type": "code",
      "metadata": {
        "id": "1YXIi7dm3Z4D",
        "colab_type": "code",
        "colab": {}
      },
      "source": [
        "try:\n",
        "  print(add_two_int(1, \"2\"))\n",
        "except Exception as e:\n",
        "  print(e)"
      ],
      "execution_count": null,
      "outputs": []
    },
    {
      "cell_type": "code",
      "metadata": {
        "id": "cM-cVLhp3qTF",
        "colab_type": "code",
        "colab": {}
      },
      "source": [
        "try:\n",
        "  print(add_two_int(1, \"2\"))\n",
        "except ValueError as e:\n",
        "  print(e)"
      ],
      "execution_count": null,
      "outputs": []
    },
    {
      "cell_type": "markdown",
      "metadata": {
        "id": "AXBJ-BSfW_4o",
        "colab_type": "text"
      },
      "source": [
        "## Part 2: Python Data Handling and Visualization libraries\n",
        "\n",
        "Now that you are comfortable with Python essentials, let's check out some essential data handling and visualisation libraries!"
      ]
    },
    {
      "cell_type": "markdown",
      "metadata": {
        "id": "ck0Qs-CXj1iP",
        "colab_type": "text"
      },
      "source": [
        "### Numpy\n",
        "Numpy provides support for multi-dimensional arrays and matrix manipulation as well as a large collection of mathematical and logical operations. Numpy and smart vectorization are key to fast and open-source scientific computing in Python.\n",
        "\n",
        "**Note:** Numpy is so popular that many other Python Libraries have functions that accept Numpy arrays as input. \n",
        " \n"
      ]
    },
    {
      "cell_type": "code",
      "metadata": {
        "id": "eTjMaBw3qaC0",
        "colab_type": "code",
        "colab": {}
      },
      "source": [
        "import numpy as np"
      ],
      "execution_count": null,
      "outputs": []
    },
    {
      "cell_type": "markdown",
      "metadata": {
        "id": "23Wfgpf4pVqy",
        "colab_type": "text"
      },
      "source": [
        "#### Arrays"
      ]
    },
    {
      "cell_type": "markdown",
      "metadata": {
        "id": "noCSZFCcrDVi",
        "colab_type": "text"
      },
      "source": [
        "We can create Numpy arrays from lists:"
      ]
    },
    {
      "cell_type": "code",
      "metadata": {
        "id": "_aolhEwWW-45",
        "colab_type": "code",
        "colab": {}
      },
      "source": [
        "x = np.array([[1],[2],[3],[4.0]])\n",
        "print(f\"{x}\\n\")\n",
        "print(f\"{x.shape}\\n\")\n",
        "print(x.dtype)"
      ],
      "execution_count": null,
      "outputs": []
    },
    {
      "cell_type": "markdown",
      "metadata": {
        "id": "vY2OudHtrWUf",
        "colab_type": "text"
      },
      "source": [
        "Similarly, we can define Numpy matrices as follows:"
      ]
    },
    {
      "cell_type": "code",
      "metadata": {
        "id": "niFtuoWhpkl5",
        "colab_type": "code",
        "colab": {}
      },
      "source": [
        "X = np.array([[1,2,3], [4,5,6]])\n",
        "print(f\"{X}\\n\")\n",
        "print(X.shape)"
      ],
      "execution_count": null,
      "outputs": []
    },
    {
      "cell_type": "markdown",
      "metadata": {
        "id": "_yTfZyVgrh5U",
        "colab_type": "text"
      },
      "source": [
        "No need to create your own identity matrix! Numpy provides direct support for it:"
      ]
    },
    {
      "cell_type": "code",
      "metadata": {
        "id": "KK4B_3YhppBN",
        "colab_type": "code",
        "colab": {}
      },
      "source": [
        "X = np.eye(3)  # Square matrix with only 1's on diagonal\n",
        "print(X)"
      ],
      "execution_count": null,
      "outputs": []
    },
    {
      "cell_type": "markdown",
      "metadata": {
        "id": "0FFVpVlXsNNZ",
        "colab_type": "text"
      },
      "source": [
        "We can also fill matrices with randoms integers or floats:"
      ]
    },
    {
      "cell_type": "code",
      "metadata": {
        "id": "Eb2uMHg9pu_p",
        "colab_type": "code",
        "colab": {}
      },
      "source": [
        "# random integers between 0 and 9\n",
        "X = np.random.randint(10, size = (4, 4))\n",
        "print(f\"{X}\\n\")\n",
        "\n",
        "# random number from 0 to 1\n",
        "X = np.random.random((4,4))\n",
        "print(X)"
      ],
      "execution_count": null,
      "outputs": []
    },
    {
      "cell_type": "markdown",
      "metadata": {
        "id": "6vXRuW6dtALS",
        "colab_type": "text"
      },
      "source": [
        "Elements in an array can be accessed just like with lists:"
      ]
    },
    {
      "cell_type": "code",
      "metadata": {
        "id": "bBEFOxOPueuI",
        "colab_type": "code",
        "colab": {}
      },
      "source": [
        "# selecting an element: array[row,column]\n",
        "X[0,0]"
      ],
      "execution_count": null,
      "outputs": []
    },
    {
      "cell_type": "code",
      "metadata": {
        "id": "JgG3EjvDu4qn",
        "colab_type": "code",
        "colab": {}
      },
      "source": [
        "# selecting rows: array[row]\n",
        "X[0]"
      ],
      "execution_count": null,
      "outputs": []
    },
    {
      "cell_type": "code",
      "metadata": {
        "id": "8A576EaCvVj6",
        "colab_type": "code",
        "colab": {}
      },
      "source": [
        "#selecting all rows, columns 0 and 2\n",
        "X[:,[0,2]]"
      ],
      "execution_count": null,
      "outputs": []
    },
    {
      "cell_type": "code",
      "metadata": {
        "id": "d11UrjbXvc8h",
        "colab_type": "code",
        "colab": {}
      },
      "source": [
        "#selecting all rows except the first, all columns except the last:\n",
        "X[1:,:-1]"
      ],
      "execution_count": null,
      "outputs": []
    },
    {
      "cell_type": "markdown",
      "metadata": {
        "id": "xQ1vqdLQvl5P",
        "colab_type": "text"
      },
      "source": [
        "#### Logical operations\n",
        "\n"
      ]
    },
    {
      "cell_type": "markdown",
      "metadata": {
        "id": "zU5vYFGJ-Vcm",
        "colab_type": "text"
      },
      "source": [
        "We can also use logical operator to create arrays of booleans:"
      ]
    },
    {
      "cell_type": "code",
      "metadata": {
        "id": "JZtP2Gmt-J5o",
        "colab_type": "code",
        "colab": {}
      },
      "source": [
        "X < 0.5"
      ],
      "execution_count": null,
      "outputs": []
    },
    {
      "cell_type": "markdown",
      "metadata": {
        "id": "by7ve4VY-gR3",
        "colab_type": "text"
      },
      "source": [
        "Or use them to select elements that satisfy certain conditions:"
      ]
    },
    {
      "cell_type": "code",
      "metadata": {
        "id": "Lslii2p9-oHj",
        "colab_type": "code",
        "colab": {}
      },
      "source": [
        "X[X < 0.5] #select all elements that are less than 0.5"
      ],
      "execution_count": null,
      "outputs": []
    },
    {
      "cell_type": "markdown",
      "metadata": {
        "id": "XL2OwAtE-JkG",
        "colab_type": "text"
      },
      "source": [
        "Numpy also comes with built-in logic functions that save you time on iterating through matrices: \n",
        "\n",
        "*   `np.any(arr, axis=None)` tests whether any array element along a given axis evaluates to True (OR operation)\n",
        "*   `np.all(arr, axis=None)` tests whether all array elements along a given axis evaluate to True (AND operation)\n",
        "\n",
        "\n",
        "You can find more useful numpy logical functions [here](https://numpy.org/doc/stable/reference/routines.logic.html). \n",
        "\n",
        "\n"
      ]
    },
    {
      "cell_type": "code",
      "metadata": {
        "id": "OhwwkrobB-gw",
        "colab_type": "code",
        "colab": {}
      },
      "source": [
        "bool_arr = np.array([[True, True, True], [False, True, False], [False, False, False]])\n",
        "print(f\"{bool_arr}\\n\")\n",
        "\n",
        "print(np.any(bool_arr)) # True: no axis specified, so checks all dimensions\n",
        "print(np.all(bool_arr, 0)) # axis=0 => matrix collapses in the row direction\n",
        "print(np.all(bool_arr, 1)) # axis=1 => matrix collapses in the column direction"
      ],
      "execution_count": null,
      "outputs": []
    },
    {
      "cell_type": "markdown",
      "metadata": {
        "id": "vrPaJmHeuOSc",
        "colab_type": "text"
      },
      "source": [
        "#### Math operations"
      ]
    },
    {
      "cell_type": "markdown",
      "metadata": {
        "id": "ns4CMy8aFnEP",
        "colab_type": "text"
      },
      "source": [
        "For a comprehensive list of all the available math functions, please have a look [here](https://numpy.org/doc/stable/reference/routines.math.html). We will go over a few:  "
      ]
    },
    {
      "cell_type": "code",
      "metadata": {
        "id": "SFFFmYhSFmw4",
        "colab_type": "code",
        "colab": {}
      },
      "source": [
        "# elementwise addition\n",
        "x = np.array([[1,2],[3,4]])\n",
        "y = np.array([[5,6],[7,8]])\n",
        "\n",
        "print(f\"{x}\\n\")\n",
        "print(f\"{y}\\n\")\n",
        "print(f\"x + y = \\n {x + y} \\n\")\n",
        "print(f\"np.add(x, y) = \\n {np.add(x, y)} \\n\")"
      ],
      "execution_count": null,
      "outputs": []
    },
    {
      "cell_type": "code",
      "metadata": {
        "id": "Uz_dwJXJHiET",
        "colab_type": "code",
        "colab": {}
      },
      "source": [
        "# elementwise multiplication\n",
        "print(f\"x * y = \\n {x * y} \\n\")\n",
        "print(f\"np.multiply(x, y) = \\n {np.multiply(x, y)} \\n\")\n",
        "\n",
        "# useful when multiplying matrix by scalar\n",
        "print(f\"1.5 * x = \\n {1.5 * x} \\n\")\n",
        "\n",
        "# what happens when the arrays have different sizes? Try it out!"
      ],
      "execution_count": null,
      "outputs": []
    },
    {
      "cell_type": "markdown",
      "metadata": {
        "id": "y6dxpBhIHsCo",
        "colab_type": "text"
      },
      "source": [
        "Watch out! We are dealing with matrices: use the `np.dot()` function to compute inner products of vectors, to multiply a vector by a matrix, and to multiply matrices."
      ]
    },
    {
      "cell_type": "code",
      "metadata": {
        "id": "4zjXFUsuH87W",
        "colab_type": "code",
        "colab": {}
      },
      "source": [
        "print(f\"x.dot(y) = \\n {x.dot(y)}\")\n",
        "print(f\"np.dot(x,y) = \\n {np.dot(x, y)}\")"
      ],
      "execution_count": null,
      "outputs": []
    },
    {
      "cell_type": "markdown",
      "metadata": {
        "id": "GexAOKQEICwL",
        "colab_type": "text"
      },
      "source": [
        "Of course, dimensions must match!"
      ]
    },
    {
      "cell_type": "code",
      "metadata": {
        "id": "9cPqsU8iIDuD",
        "colab_type": "code",
        "colab": {}
      },
      "source": [
        "x2 = np.array([[1,2], [1,2]])\n",
        "print(f\"np.shape(x2) = {np.shape(x2)}\")\n",
        "y2 = np.array([[1,2,3],[1,2,3],[1,2,3]])\n",
        "print(f\"np.shape(y2) = {np.shape(y2)}\")\n",
        "\n",
        "np.dot(x2,y2) # will produce a ValueError"
      ],
      "execution_count": null,
      "outputs": []
    },
    {
      "cell_type": "code",
      "metadata": {
        "colab_type": "code",
        "id": "AaucrAVF7eX8",
        "colab": {}
      },
      "source": [
        "x = np.array([[1,2],[3,4]])\n",
        "x = x.reshape((1, 2, 2, 1))\n",
        "print(f\"shape of x: {x.shape}\")\n",
        "print(x)\n",
        "y = np.array([[5,6],[7,8]])\n",
        "#print (np.dot(x, y)) # will produce a ValueError\n",
        "\n",
        "# Squeeze() removes single-dimensional entries from the shape of an array\n",
        "x = np.squeeze(x)\n",
        "print(f\"shape of squeezed x: {x.shape}\")\n",
        "print(np.dot(x, y))"
      ],
      "execution_count": null,
      "outputs": []
    },
    {
      "cell_type": "code",
      "metadata": {
        "colab_type": "code",
        "id": "mXmlllYnC5YG",
        "colab": {}
      },
      "source": [
        "# Calculate transpose and inverse\n",
        "x_transp = x.T\n",
        "print(f\"x = \\n {x} \\n\")\n",
        "print(f\"x_transp = \\n {x_transp} \\n\")\n",
        "\n",
        "x_inv = np.linalg.inv(x)\n",
        "print(f\"x_inv = \\n {x_inv} \\n\")"
      ],
      "execution_count": null,
      "outputs": []
    },
    {
      "cell_type": "code",
      "metadata": {
        "colab_type": "code",
        "id": "ZzZ2MEKk8dbr",
        "colab": {}
      },
      "source": [
        "# Solve x for the equation Ax = b\n",
        "A = np.random.randint(5, size=(2, 2))\n",
        "b = np.random.random((2, 1))\n",
        "x = np.linalg.solve(A, b)\n",
        "\n",
        "print(f\"{x}\\n\")\n",
        "print(np.linalg.inv(A).dot(b))\n",
        "\n",
        "# Avoid using inv(), instead use solve()"
      ],
      "execution_count": null,
      "outputs": []
    },
    {
      "cell_type": "code",
      "metadata": {
        "id": "Cs4Xz2W-DyFY",
        "colab_type": "code",
        "colab": {}
      },
      "source": [
        "# Applying custom functions on numpy arrays\n",
        "x = np.array([1, 2, 3, 4, 5])\n",
        "f = lambda x: x ** 2\n",
        "squares = f(x)\n",
        "print(squares)\n",
        "\n",
        "# Always try to look for built-in numpy functions first as they are much faster!"
      ],
      "execution_count": null,
      "outputs": []
    },
    {
      "cell_type": "markdown",
      "metadata": {
        "id": "e8J_3xS0hC6g",
        "colab_type": "text"
      },
      "source": [
        "### Matplotlib\n",
        "\n",
        "Matplotlib is a library that provides functionalities for plotting and data visualization similar to the MATLAB environment. \n",
        "\n"
      ]
    },
    {
      "cell_type": "code",
      "metadata": {
        "colab_type": "code",
        "id": "F4M69U2eC5YK",
        "colab": {}
      },
      "source": [
        "import matplotlib.pyplot as plt"
      ],
      "execution_count": null,
      "outputs": []
    },
    {
      "cell_type": "markdown",
      "metadata": {
        "id": "0etZTX-Lzsy9",
        "colab_type": "text"
      },
      "source": [
        "Let's make sure the plots properly appear in our notebook by using an IPython [magic function](https://ipython.readthedocs.io/en/stable/interactive/tutorial.html#magics-explained). "
      ]
    },
    {
      "cell_type": "code",
      "metadata": {
        "colab_type": "code",
        "id": "7aW-qKl0C5YL",
        "colab": {}
      },
      "source": [
        "%matplotlib inline"
      ],
      "execution_count": null,
      "outputs": []
    },
    {
      "cell_type": "markdown",
      "metadata": {
        "colab_type": "text",
        "id": "6iQx7JwSC5YN"
      },
      "source": [
        "We use the `plt.plot()` function to plot 2D data:"
      ]
    },
    {
      "cell_type": "code",
      "metadata": {
        "colab_type": "code",
        "id": "785Ygz4VC5YO",
        "colab": {}
      },
      "source": [
        "plt.title(\"My Plot\")\n",
        "#x is 0, 1, 2, 3\n",
        "plt.plot([1,2,3,4])\n",
        "plt.ylabel(\"some numbers\")\n",
        "plt.xlabel(\"some numbers\")\n",
        "plt.savefig(\"a.pdf\")\n",
        "plt.show()"
      ],
      "execution_count": null,
      "outputs": []
    },
    {
      "cell_type": "markdown",
      "metadata": {
        "colab_type": "text",
        "id": "LP3vb2pcC5YP"
      },
      "source": [
        "The format of plot function is (x-axis values, y-axis values, style). For more options, [check here](https://wordpress.com/support/markdown-quick-reference/)"
      ]
    },
    {
      "cell_type": "code",
      "metadata": {
        "colab_type": "code",
        "id": "BQ2LV4x7C5YR",
        "colab": {}
      },
      "source": [
        "plt.plot([1,2,3,4], [1,4,9,16], \"b--\") # b colors the curve blue, -- dashes it\n",
        "plt.axis([0, 6, 0, 20]) # changes the default axis length"
      ],
      "execution_count": null,
      "outputs": []
    },
    {
      "cell_type": "markdown",
      "metadata": {
        "colab_type": "text",
        "id": "RrFv2UD3C5YT"
      },
      "source": [
        "We can also stack multiple curves on the same plot"
      ]
    },
    {
      "cell_type": "code",
      "metadata": {
        "colab_type": "code",
        "id": "0fH1LvT7C5YT",
        "colab": {}
      },
      "source": [
        "t = np.arange(0., 5., 0.2)\n",
        "\n",
        "plt.plot(t, t, \"r--\")\n",
        "plt.plot(t, t**2, \"bs\")\n",
        "plt.plot(t, t**3, \"g^\")\n",
        "plt.xlabel(\"x axis label\")\n",
        "plt.ylabel(\"y axis label\")\n",
        "plt.title(\"Curves\")\n",
        "plt.legend([\"t\", \"t**2\", \"t**3\"])\n",
        "plt.show()"
      ],
      "execution_count": null,
      "outputs": []
    },
    {
      "cell_type": "markdown",
      "metadata": {
        "colab_type": "text",
        "id": "61Iv18yPC5YV"
      },
      "source": [
        "We can also plot the curves seperately but keep them in the same figure using the `plt.subplot()` function. "
      ]
    },
    {
      "cell_type": "code",
      "metadata": {
        "colab_type": "code",
        "id": "0IVySDy0C5YV",
        "colab": {}
      },
      "source": [
        "def f(t):\n",
        "    return np.exp(-t) * np.cos(2*np.pi*t)\n",
        "\n",
        "t1 = np.arange(0.0, 5.0, 0.1)\n",
        "t2 = np.arange(0.0, 5.0, 0.02)\n",
        "\n",
        "plt.figure(figsize = (5, 4))\n",
        "plt.subplot(211)\n",
        "plt.plot(t1, f(t1), \"bo\", t2, f(t2), \"k\")\n",
        "\n",
        "plt.subplot(212)\n",
        "plt.plot(t2, np.cos(2*np.pi*t2), \"r--\")\n",
        "\n",
        "plt.show()"
      ],
      "execution_count": null,
      "outputs": []
    },
    {
      "cell_type": "code",
      "metadata": {
        "colab_type": "code",
        "id": "-CDZgs_T_nA1",
        "colab": {}
      },
      "source": [
        "fig, (ax1, ax2) = plt.subplots(2, sharex=True)\n",
        "fig.suptitle(\"Aligning x-axis using sharex\")\n",
        "ax1.plot(x, y)\n",
        "ax2.plot(x + 1, -y)"
      ],
      "execution_count": null,
      "outputs": []
    },
    {
      "cell_type": "code",
      "metadata": {
        "colab_type": "code",
        "id": "samBVjTE_d4i",
        "colab": {}
      },
      "source": [
        "fig, ((ax1, ax2), (ax3, ax4)) = plt.subplots(2, 2)\n",
        "fig.suptitle(\"Sharing x per column, y per row\")\n",
        "ax1.plot(x, y)\n",
        "ax2.plot(x, y**2, \"tab:orange\")\n",
        "ax3.plot(x, -y, \"tab:green\")\n",
        "ax4.plot(x, -y**2, \"tab:red\")\n",
        "\n",
        "for ax in fig.get_axes():\n",
        "    ax.label_outer()"
      ],
      "execution_count": null,
      "outputs": []
    },
    {
      "cell_type": "markdown",
      "metadata": {
        "colab_type": "text",
        "id": "uZDYOYm1C5YY"
      },
      "source": [
        "Find out more about Matplotlib [here](http://matplotlib.org/users/pyplot_tutorial.html)!"
      ]
    },
    {
      "cell_type": "markdown",
      "metadata": {
        "id": "2OTzZ8xCBrnr",
        "colab_type": "text"
      },
      "source": [
        "### Pandas\n",
        "Pandas builds upon the Numpy library to provide essential data structures for organizing and manipulating real-word data with adequate flexibility ( attaching labels to data, working with missing data, etc.)\n",
        "\n",
        "Aside from highly-performant data operations, Pandas objects seamlessly intregrate with database systems and spreadsheets programs. "
      ]
    },
    {
      "cell_type": "code",
      "metadata": {
        "id": "_KDeil6nBvfn",
        "colab_type": "code",
        "colab": {}
      },
      "source": [
        "import pandas as pd"
      ],
      "execution_count": null,
      "outputs": []
    },
    {
      "cell_type": "markdown",
      "metadata": {
        "id": "E0GdN9c9MSvX",
        "colab_type": "text"
      },
      "source": [
        "#### Series\n",
        "\n",
        "A Pandas ``Series`` is a one-dimensional array of indexed data.\n",
        "It can be created from a list or array as follows:"
      ]
    },
    {
      "cell_type": "code",
      "metadata": {
        "id": "0f2jV97dMSvX",
        "colab_type": "code",
        "colab": {}
      },
      "source": [
        "data = pd.Series([0.25, 0.5, 0.75, 1.0])\n",
        "print(data)"
      ],
      "execution_count": null,
      "outputs": []
    },
    {
      "cell_type": "markdown",
      "metadata": {
        "id": "ftoozReEMSvb",
        "colab_type": "text"
      },
      "source": [
        "As we see in the output, the ``Series`` wraps both a sequence of values and a sequence of indices, which we can access with the ``values`` and ``index`` attributes.\n",
        "The ``values`` are simply a familiar numpy array:"
      ]
    },
    {
      "cell_type": "code",
      "metadata": {
        "id": "7fWekN7LMSvc",
        "colab_type": "code",
        "colab": {}
      },
      "source": [
        "print(data.values)"
      ],
      "execution_count": null,
      "outputs": []
    },
    {
      "cell_type": "markdown",
      "metadata": {
        "id": "0ifUMdGtMSve",
        "colab_type": "text"
      },
      "source": [
        "The ``index`` is an array-like object of type ``pd.Index``, which we'll discuss in more detail momentarily."
      ]
    },
    {
      "cell_type": "code",
      "metadata": {
        "id": "PqZgMlGGMSve",
        "colab_type": "code",
        "colab": {}
      },
      "source": [
        "print(data.index)"
      ],
      "execution_count": null,
      "outputs": []
    },
    {
      "cell_type": "markdown",
      "metadata": {
        "id": "Aqxm_ojNMSvh",
        "colab_type": "text"
      },
      "source": [
        "Like with a numpy array, data can be accessed by the associated index via the familiar Python square-bracket notation:"
      ]
    },
    {
      "cell_type": "code",
      "metadata": {
        "id": "HGVYfmBYMSvi",
        "colab_type": "code",
        "colab": {}
      },
      "source": [
        "print(data[1])"
      ],
      "execution_count": null,
      "outputs": []
    },
    {
      "cell_type": "code",
      "metadata": {
        "id": "MFqsmI14MSvj",
        "colab_type": "code",
        "colab": {}
      },
      "source": [
        "print(data[1:3])"
      ],
      "execution_count": null,
      "outputs": []
    },
    {
      "cell_type": "markdown",
      "metadata": {
        "id": "U3cxPmTYMSvm",
        "colab_type": "text"
      },
      "source": [
        "However, a `Series` object is not simply a numpy array! The `index` can be customized instead of being a simple list of sequential integers. For example, we can index our `Series` object with strings:"
      ]
    },
    {
      "cell_type": "code",
      "metadata": {
        "id": "TlsIWBV0MSvn",
        "colab_type": "code",
        "colab": {}
      },
      "source": [
        "data = pd.Series([0.25, 0.5, 0.75, 1.0],\n",
        "                 index=['a', 'b', 'c', 'd'])\n",
        "print(data)"
      ],
      "execution_count": null,
      "outputs": []
    },
    {
      "cell_type": "markdown",
      "metadata": {
        "id": "qRa3WFz9MSvp",
        "colab_type": "text"
      },
      "source": [
        "And the item access works as usual:"
      ]
    },
    {
      "cell_type": "code",
      "metadata": {
        "id": "tLOTMFs-MSvp",
        "colab_type": "code",
        "colab": {}
      },
      "source": [
        "print(data['b'])"
      ],
      "execution_count": null,
      "outputs": []
    },
    {
      "cell_type": "markdown",
      "metadata": {
        "id": "P_PiDaAVMSvs",
        "colab_type": "text"
      },
      "source": [
        "We can even use non-contiguous or non-sequential indices:"
      ]
    },
    {
      "cell_type": "code",
      "metadata": {
        "id": "uVb6OCrgMSvt",
        "colab_type": "code",
        "colab": {}
      },
      "source": [
        "data = pd.Series([0.25, 0.5, 0.75, 1.0],\n",
        "                 index=[2, 5, 3, 7])\n",
        "print(data)"
      ],
      "execution_count": null,
      "outputs": []
    },
    {
      "cell_type": "code",
      "metadata": {
        "id": "j1tgqTu4MSvw",
        "colab_type": "code",
        "colab": {}
      },
      "source": [
        "print(data[5])"
      ],
      "execution_count": null,
      "outputs": []
    },
    {
      "cell_type": "markdown",
      "metadata": {
        "id": "XZOE2OA_MSvy",
        "colab_type": "text"
      },
      "source": [
        "We can also construct a `Series` from a Python Dictionary.\n",
        "\n",
        "**Note:** just like a numpy array is more efficient than Python Lists for certain operations, the implementation of `Series` can make them much more efficient than the native Dictionary"
      ]
    },
    {
      "cell_type": "code",
      "metadata": {
        "id": "w2kZVewWMSvy",
        "colab_type": "code",
        "colab": {}
      },
      "source": [
        "area_codes_dict = {'Montreal': 514,\n",
        "                   'Toronto': 416,\n",
        "                   'Vancouver': 604,\n",
        "                   'Calgary': 587, \n",
        "                   'Ottawa': 613}\n",
        "area_codes = pd.Series(area_codes_dict)\n",
        "print(area_codes)"
      ],
      "execution_count": null,
      "outputs": []
    },
    {
      "cell_type": "markdown",
      "metadata": {
        "id": "L_47cctCMSv0",
        "colab_type": "text"
      },
      "source": [
        "Again, accessing elements can be done in a similar fashion as usual"
      ]
    },
    {
      "cell_type": "code",
      "metadata": {
        "id": "iI7gVfEZMSv0",
        "colab_type": "code",
        "colab": {}
      },
      "source": [
        "area_codes['Montreal']"
      ],
      "execution_count": null,
      "outputs": []
    },
    {
      "cell_type": "markdown",
      "metadata": {
        "id": "vGj-USoGMSv2",
        "colab_type": "text"
      },
      "source": [
        "Unlike a dictionary, though, the ``Series`` also supports array-style operations such as slicing:"
      ]
    },
    {
      "cell_type": "code",
      "metadata": {
        "id": "2_WjZhXeMSv2",
        "colab_type": "code",
        "colab": {}
      },
      "source": [
        "area_codes['Toronto':'Calgary']"
      ],
      "execution_count": null,
      "outputs": []
    },
    {
      "cell_type": "markdown",
      "metadata": {
        "id": "f0ifD0w2MSv5",
        "colab_type": "text"
      },
      "source": [
        "#### DataFrames\n",
        "A `DataFrame` is analog to a two-dimensional array with both flexible row indices and flexible column names. \n",
        "\n",
        "One way to build a `DataFrame` is by using multiple `Series` objects! Let's create a provinces `Series` associated with the cities we saw ealier:"
      ]
    },
    {
      "cell_type": "code",
      "metadata": {
        "id": "1NBk1rY0a7Ki",
        "colab_type": "code",
        "colab": {}
      },
      "source": [
        "provinces_dict = {'Montreal': 'QC',\n",
        "                  'Toronto': 'ON',\n",
        "                  'Vancouver': 'BC',\n",
        "                  'Calgary': 'AB', \n",
        "                  'Ottawa': 'ON'}\n",
        "provinces = pd.Series(provinces_dict)\n",
        "print(provinces)"
      ],
      "execution_count": null,
      "outputs": []
    },
    {
      "cell_type": "markdown",
      "metadata": {
        "id": "QS0lN-WgaYpB",
        "colab_type": "text"
      },
      "source": [
        "We can now construct a two-column `DataFrame` using a Dictionary of `Series`:"
      ]
    },
    {
      "cell_type": "code",
      "metadata": {
        "id": "eyauTXAsbu78",
        "colab_type": "code",
        "colab": {}
      },
      "source": [
        "cities = pd.DataFrame({'area_codes': area_codes,\n",
        "                       'province': provinces})\n",
        "print(cities)"
      ],
      "execution_count": null,
      "outputs": []
    },
    {
      "cell_type": "markdown",
      "metadata": {
        "id": "VCGqXguUMSwI",
        "colab_type": "text"
      },
      "source": [
        "Like the ``Series`` object, the ``DataFrame`` has an ``index`` attribute that gives access to the index labels:"
      ]
    },
    {
      "cell_type": "code",
      "metadata": {
        "id": "BEB8N3G5MSwJ",
        "colab_type": "code",
        "colab": {}
      },
      "source": [
        "cities.index"
      ],
      "execution_count": null,
      "outputs": []
    },
    {
      "cell_type": "markdown",
      "metadata": {
        "id": "loGacdCTMSwL",
        "colab_type": "text"
      },
      "source": [
        "Additionally, the ``DataFrame`` has a ``columns`` attribute, which is an ``Index`` object holding the column labels:"
      ]
    },
    {
      "cell_type": "code",
      "metadata": {
        "id": "sDkGZGcZMSwL",
        "colab_type": "code",
        "colab": {}
      },
      "source": [
        "cities.columns"
      ],
      "execution_count": null,
      "outputs": []
    },
    {
      "cell_type": "markdown",
      "metadata": {
        "id": "yD1TWIopMSwN",
        "colab_type": "text"
      },
      "source": [
        "Thus the ``DataFrame`` can be thought of as a generalization of a two-dimensional NumPy array, where both the rows and columns have a generalized index for accessing the data."
      ]
    },
    {
      "cell_type": "markdown",
      "metadata": {
        "id": "pEQ7qj_jMSwN",
        "colab_type": "text"
      },
      "source": [
        "Similarly, we can also think of a ``DataFrame`` as a specialization of a dictionary.\n",
        "Where a dictionary maps a key to a value, a ``DataFrame`` maps a column name to a ``Series`` of column data.\n",
        "For example, asking for the ``'area_codes'`` attribute returns the ``Series`` object containing the areas we saw earlier:"
      ]
    },
    {
      "cell_type": "code",
      "metadata": {
        "id": "CZg5291tMSwO",
        "colab_type": "code",
        "colab": {}
      },
      "source": [
        "cities['area_codes']"
      ],
      "execution_count": null,
      "outputs": []
    },
    {
      "cell_type": "markdown",
      "metadata": {
        "id": "ojB1Ikj4MSwQ",
        "colab_type": "text"
      },
      "source": [
        "A Pandas ``DataFrame`` can be constructed in a variety of ways. Here we'll give several examples:"
      ]
    },
    {
      "cell_type": "markdown",
      "metadata": {
        "id": "Wtp_h-wPMSwR",
        "colab_type": "text"
      },
      "source": [
        "##### From a single Series object\n",
        "\n",
        "A ``DataFrame`` is a collection of ``Series`` objects, and a single-column ``DataFrame`` can be constructed from a single ``Series``:"
      ]
    },
    {
      "cell_type": "code",
      "metadata": {
        "id": "UuherJXuMSwR",
        "colab_type": "code",
        "colab": {}
      },
      "source": [
        "pd.DataFrame(area_codes, columns=['area_codes'])"
      ],
      "execution_count": null,
      "outputs": []
    },
    {
      "cell_type": "markdown",
      "metadata": {
        "id": "EEbQhRMKMSwW",
        "colab_type": "text"
      },
      "source": [
        "##### From a Dictionary of Series objects\n",
        "\n",
        "As we saw before, a ``DataFrame`` can be constructed from a dictionary of ``Series`` objects as well:"
      ]
    },
    {
      "cell_type": "code",
      "metadata": {
        "id": "tab_erMUMSwX",
        "colab_type": "code",
        "colab": {}
      },
      "source": [
        "pd.DataFrame({'area_codes': area_codes,\n",
        "              'province': provinces})"
      ],
      "execution_count": null,
      "outputs": []
    },
    {
      "cell_type": "markdown",
      "metadata": {
        "id": "mTdQRSzUMSwT",
        "colab_type": "text"
      },
      "source": [
        "##### From a list of dicts\n",
        "\n",
        "Any list of dictionaries can be made into a ``DataFrame``.\n",
        "We'll use a simple list comprehension to create some data:"
      ]
    },
    {
      "cell_type": "code",
      "metadata": {
        "id": "90Ez6OcvMSwT",
        "colab_type": "code",
        "colab": {}
      },
      "source": [
        "data = [{'a': i, 'b': 2 * i} for i in range(3)]\n",
        "pd.DataFrame(data)"
      ],
      "execution_count": null,
      "outputs": []
    },
    {
      "cell_type": "markdown",
      "metadata": {
        "id": "ta9PemCOMSwV",
        "colab_type": "text"
      },
      "source": [
        "Even if some keys in the dictionary are missing, Pandas will fill them in with ``NaN`` (i.e., \"not a number\") values:"
      ]
    },
    {
      "cell_type": "code",
      "metadata": {
        "id": "bW7NUfEvMSwV",
        "colab_type": "code",
        "colab": {}
      },
      "source": [
        "pd.DataFrame([{'a': 1, 'b': 2}, {'b': 3, 'c': 4}])"
      ],
      "execution_count": null,
      "outputs": []
    },
    {
      "cell_type": "markdown",
      "metadata": {
        "id": "LuQlbk5nMSwY",
        "colab_type": "text"
      },
      "source": [
        "##### From a two-dimensional NumPy array\n",
        "\n",
        "Given a two-dimensional array of data, we can create a ``DataFrame`` with any specified column and index names.\n",
        "If omitted, an integer index will be used for each:"
      ]
    },
    {
      "cell_type": "code",
      "metadata": {
        "id": "V63qMLpwMSwY",
        "colab_type": "code",
        "colab": {}
      },
      "source": [
        "pd.DataFrame(np.random.rand(3, 2),\n",
        "             columns=['foo', 'bar'],\n",
        "             index=['a', 'b', 'c'])"
      ],
      "execution_count": null,
      "outputs": []
    },
    {
      "cell_type": "markdown",
      "metadata": {
        "id": "DDuEotQ7i4BL",
        "colab_type": "text"
      },
      "source": [
        "#### Hands-on example\n",
        "In this final section, we will have a look at an example with real-world data and see how Pandas can help us get quickly started with exploring it! "
      ]
    },
    {
      "cell_type": "markdown",
      "metadata": {
        "id": "d7HeS_eNAp6v",
        "colab_type": "text"
      },
      "source": [
        "As mentioned previously, Pandas supports downloading data seamlessly from a variety of sources including CSVs, databases, etc. \n",
        "\n",
        "Let's extract our dataset from a CSV file stored on GitHub:"
      ]
    },
    {
      "cell_type": "code",
      "metadata": {
        "id": "I38kKG5shKFJ",
        "colab_type": "code",
        "colab": {}
      },
      "source": [
        "df = pd.read_csv('https://raw.githubusercontent.com/McGillAISociety/WorkshopDatasets/master/foot-players-stats.csv')"
      ],
      "execution_count": null,
      "outputs": []
    },
    {
      "cell_type": "markdown",
      "metadata": {
        "id": "W-1C46mXlO6E",
        "colab_type": "text"
      },
      "source": [
        "We can then get a preview of the data by using the `head()` function. We'll see that Pandas conveniently extracted columns names and indexed the data!"
      ]
    },
    {
      "cell_type": "code",
      "metadata": {
        "id": "1gyC0iwElPT1",
        "colab_type": "code",
        "colab": {}
      },
      "source": [
        "df.head(n = 10)"
      ],
      "execution_count": null,
      "outputs": []
    },
    {
      "cell_type": "markdown",
      "metadata": {
        "id": "sXP_sjm1oNgT",
        "colab_type": "text"
      },
      "source": [
        "We observe that in row 8, the data is not available. This can happen and there are many ways to deal with it.\n",
        "\n",
        "- If the entire row is empty, we will usually get rid of the row entirely.\n",
        "\n",
        "\n",
        "Sometimes, if only a few values are missing we can:\n",
        "1. replace the value with the mean of this feature. For example, use the average of all player's weight\n",
        "2. replace the value with the mean, with respect to another feature. For example, we can replace the average height of a player by the average height of players of the same country\n",
        "3. remove the entire row (we should try to limit this if your dataset is quite small)"
      ]
    },
    {
      "cell_type": "code",
      "metadata": {
        "id": "CIP7ZJUsoNRb",
        "colab_type": "code",
        "colab": {}
      },
      "source": [
        "# remove \"in-place\" the rows with non available data \n",
        "df.dropna(inplace = True, how = 'all')"
      ],
      "execution_count": null,
      "outputs": []
    },
    {
      "cell_type": "code",
      "metadata": {
        "id": "sFs9cA4Zk97W",
        "colab_type": "code",
        "colab": {}
      },
      "source": [
        "# View the shape of the data\n",
        "df.shape"
      ],
      "execution_count": null,
      "outputs": []
    },
    {
      "cell_type": "markdown",
      "metadata": {
        "id": "TNdDhfYKj-m-",
        "colab_type": "text"
      },
      "source": [
        "Now let's use Pandas' convenient `describe()` function to get a good initial overview of our data. \n",
        "\n",
        "**Note:** The default `describe()` only shows numerical values while excluding NaN elements"
      ]
    },
    {
      "cell_type": "code",
      "metadata": {
        "id": "h8iayqaZhM2E",
        "colab_type": "code",
        "colab": {}
      },
      "source": [
        "df.describe()"
      ],
      "execution_count": null,
      "outputs": []
    },
    {
      "cell_type": "markdown",
      "metadata": {
        "id": "h9n1Vf2UkxWQ",
        "colab_type": "text"
      },
      "source": [
        "Pandas also offers various functions to get information about your data, such as Matplotlib histograms:"
      ]
    },
    {
      "cell_type": "code",
      "metadata": {
        "id": "TR5J0P5VkxKw",
        "colab_type": "code",
        "colab": {}
      },
      "source": [
        "df.hist(figsize = (14,16))\n",
        "plt.tight_layout()"
      ],
      "execution_count": null,
      "outputs": []
    },
    {
      "cell_type": "markdown",
      "metadata": {
        "id": "-v0tdk85AIHD",
        "colab_type": "text"
      },
      "source": [
        "Now, let's quickly look at some commonly used indexing and data selection Pandas `DataFrame` operations:"
      ]
    },
    {
      "cell_type": "markdown",
      "metadata": {
        "id": "0eJ1yIUcEfNw",
        "colab_type": "text"
      },
      "source": [
        "- `iloc[]` is used on a `DataFrame` to access data using **integer** indexes. "
      ]
    },
    {
      "cell_type": "code",
      "metadata": {
        "id": "YhAwpbLJAar4",
        "colab_type": "code",
        "colab": {}
      },
      "source": [
        " # Rows:\n",
        "df.iloc[0]  # first row (Cristiano Ronaldo)\n",
        "df.iloc[1]  # second row (Lionel Messi)\n",
        "df.iloc[-1]  # last row (Barry Richardson)\n",
        "\n",
        " # Columns:\n",
        "df.iloc[:,0]  # first column (name) \n",
        "df.iloc[:,1]  # second column (nationality)\n",
        "df.iloc[:,-1]  # last column (GK_reflexes)\n",
        "\n",
        " # Multiple row and column selections:\n",
        "df.iloc[0:5]  # first five rows of dataframe (use head() instead!)\n",
        "df.iloc[:, 0:2]  # first two columns w/ all rows\n",
        "df.iloc[[0,3,6,24], [0,5,6]]  # 1st, 4th, 7th, 25th rows + 1st, 6th, 7th columns.\n",
        "df.iloc[0:5, 5:8]  # first 5 rows and 5th, 6th, 7th columns"
      ],
      "execution_count": null,
      "outputs": []
    },
    {
      "cell_type": "markdown",
      "metadata": {
        "id": "48p9dC-JJWOf",
        "colab_type": "text"
      },
      "source": [
        "- `set_index()` can be used to change the current index to one or more existing columns"
      ]
    },
    {
      "cell_type": "code",
      "metadata": {
        "id": "VVUMzwckJrhX",
        "colab_type": "code",
        "colab": {}
      },
      "source": [
        "df.set_index(\"Name\", inplace=True)\n",
        "df.head()"
      ],
      "execution_count": null,
      "outputs": []
    },
    {
      "cell_type": "markdown",
      "metadata": {
        "id": "7obSXkomGjcF",
        "colab_type": "text"
      },
      "source": [
        "- `loc[]` is used on a `DataFrame` to access data using **labeled** and/or **boolean/logical** indexes."
      ]
    },
    {
      "cell_type": "code",
      "metadata": {
        "id": "BBuIyz_nG49P",
        "colab_type": "code",
        "colab": {}
      },
      "source": [
        "df.loc[[\"Lionel Messi\",\"Neymar\"]]"
      ],
      "execution_count": null,
      "outputs": []
    },
    {
      "cell_type": "code",
      "metadata": {
        "id": "69Z8QqQwGq3V",
        "colab_type": "code",
        "colab": {}
      },
      "source": [
        "df.loc[[\"Lionel Messi\",\"Neymar\"], [\"Nationality\", \"Height\", \"Weight\"]]"
      ],
      "execution_count": null,
      "outputs": []
    },
    {
      "cell_type": "code",
      "metadata": {
        "id": "GFSVqouQMeGL",
        "colab_type": "code",
        "colab": {}
      },
      "source": [
        "df.loc[df[\"Nationality\"] == \"argentina\"].head()"
      ],
      "execution_count": null,
      "outputs": []
    },
    {
      "cell_type": "markdown",
      "metadata": {
        "id": "1M3QoOnuhQSg",
        "colab_type": "text"
      },
      "source": [
        "## Conclusion\n",
        "For more information about Pandas numerous operations as well as the rest of the libraries mentioned above, we highly encourage to have a look at the [Python Data Science Handbook](http://shop.oreilly.com/product/0636920034919.do) by Jake VanderPlas. You can buy the buy the book in the link or find excerpts [on GitHub](https://github.com/jakevdp/PythonDataScienceHandbook).\n",
        "\n",
        "Thank you for following our workshop! Best of luck on what's in store for you. "
      ]
    }
  ]
}